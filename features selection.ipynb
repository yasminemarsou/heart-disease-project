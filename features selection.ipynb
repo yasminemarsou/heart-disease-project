{
 "cells": [
  {
   "cell_type": "markdown",
   "id": "0ca16324",
   "metadata": {},
   "source": [
    "Feature selection"
   ]
  },
  {
   "cell_type": "code",
   "execution_count": 6,
   "id": "cef3a8fc",
   "metadata": {},
   "outputs": [],
   "source": [
    "#import libraries\n",
    "\n",
    "import numpy as np\n",
    "import pandas as pd\n",
    "import matplotlib.pyplot as plt\n",
    "from matplotlib import rcParams\n",
    "from matplotlib.cm import rainbow\n",
    "import warnings\n",
    "warnings.filterwarnings('ignore')\n",
    "from sklearn.neighbors import KNeighborsClassifier\n",
    "from sklearn.tree import DecisionTreeClassifier\n",
    "from sklearn.ensemble import RandomForestClassifier\n",
    "import seaborn as sns\n",
    "from sklearn.model_selection import train_test_split\n",
    "import matplotlib.colors as colors\n",
    "from sklearn.preprocessing import scale\n",
    "from sklearn.svm import SVC\n",
    "from sklearn.model_selection import GridSearchCV\n",
    "from sklearn.metrics import confusion_matrix\n",
    "from sklearn.decomposition import PCA"
   ]
  },
  {
   "cell_type": "code",
   "execution_count": 7,
   "id": "c323b004",
   "metadata": {},
   "outputs": [
    {
     "name": "stdout",
     "output_type": "stream",
     "text": [
      "    age  sex   cp  trestbps    cho  fbs  restecg  thalach  exang  oldpeak  \\\n",
      "0  63.0  1.0  1.0     145.0  233.0  1.0      2.0    150.0    0.0      2.3   \n",
      "1  67.0  1.0  4.0     160.0  286.0  0.0      2.0    108.0    1.0      1.5   \n",
      "2  67.0  1.0  4.0     120.0  229.0  0.0      2.0    129.0    1.0      2.6   \n",
      "3  37.0  1.0  3.0     130.0  250.0  0.0      0.0    187.0    0.0      3.5   \n",
      "4  41.0  0.0  2.0     130.0  204.0  0.0      2.0    172.0    0.0      1.4   \n",
      "\n",
      "   slope   ca  thal  num  target  \n",
      "0    3.0  0.0   6.0    0       1  \n",
      "1    2.0  3.0   3.0    2       1  \n",
      "2    2.0  2.0   7.0    1       1  \n",
      "3    3.0  0.0   3.0    0       1  \n",
      "4    1.0  0.0   3.0    0       1  \n"
     ]
    }
   ],
   "source": [
    "df = pd.read_csv(r'D:/PYTHON/heart_disease.csv', sep=\";\")\n",
    "print(df.head())\n"
   ]
  },
  {
   "cell_type": "code",
   "execution_count": 8,
   "id": "e4be874f",
   "metadata": {},
   "outputs": [
    {
     "data": {
      "text/plain": [
       "age         0\n",
       "sex         0\n",
       "cp          0\n",
       "trestbps    0\n",
       "cho         0\n",
       "fbs         0\n",
       "restecg     0\n",
       "thalach     0\n",
       "exang       0\n",
       "oldpeak     0\n",
       "slope       0\n",
       "ca          0\n",
       "thal        0\n",
       "num         0\n",
       "target      0\n",
       "dtype: int64"
      ]
     },
     "execution_count": 8,
     "metadata": {},
     "output_type": "execute_result"
    }
   ],
   "source": [
    "#check for NaNs...\n",
    "df.isnull().sum()"
   ]
  },
  {
   "cell_type": "markdown",
   "id": "cb496912",
   "metadata": {},
   "source": [
    "Correlation Plot"
   ]
  },
  {
   "cell_type": "code",
   "execution_count": 9,
   "id": "7af132a3",
   "metadata": {},
   "outputs": [
    {
     "data": {
      "text/plain": [
       "<Axes: >"
      ]
     },
     "execution_count": 9,
     "metadata": {},
     "output_type": "execute_result"
    },
    {
     "data": {
      "image/png": "[encoded data removed]",
      "text/plain": [
       "<Figure size 640x480 with 2 Axes>"
      ]
     },
     "metadata": {},
     "output_type": "display_data"
    }
   ],
   "source": [
    "corr= df.corr().iloc[-1,:].to_numpy().reshape(15,1)\n",
    "sns.heatmap(corr, yticklabels=df.columns, xticklabels= 0)"
   ]
  },
  {
   "cell_type": "markdown",
   "id": "2e0f2f67",
   "metadata": {},
   "source": [
    "Feature Selection - L1 Regularization"
   ]
  },
  {
   "cell_type": "code",
   "execution_count": 10,
   "id": "5b149bf9",
   "metadata": {},
   "outputs": [
    {
     "name": "stdout",
     "output_type": "stream",
     "text": [
      "Features retained:  Index(['age', 'sex', 'trestbps', 'cho', 'fbs', 'restecg', 'thalach', 'exang',\n",
      "       'oldpeak', 'slope', 'ca', 'thal'],\n",
      "      dtype='object')\n"
     ]
    }
   ],
   "source": [
    "#declare the feature values and labels then split data into training/validation sets\n",
    "\n",
    "\n",
    "feats= df.iloc[:,:-1]\n",
    "labels= df.iloc[:,-1]\n",
    "\n",
    "x_train, x_devel, y_train, y_devel= train_test_split(feats, labels, test_size= 0.1, random_state= 20)\n",
    "\n",
    "#train linear model with L1 penalty\n",
    "from sklearn.svm import LinearSVC\n",
    "from sklearn.feature_selection import SelectFromModel\n",
    "\n",
    "lsvc= LinearSVC(C= 1.0, penalty= 'l1', dual= False).fit(x_train, y_train)\n",
    "svc_mod= SelectFromModel(lsvc, prefit= True)\n",
    "\n",
    "#get non-zeroed features \n",
    "x_train_svc= svc_mod.transform(x_train) #training set w/non-zeroed features\n",
    "selected_feats_svc= pd.DataFrame(svc_mod.inverse_transform(x_train_svc), index= x_train.index, columns= x_train.columns)\n",
    "selected_cols_svc= selected_feats_svc.columns[selected_feats_svc.var() != 0]\n",
    "\n",
    "#get development set that has only the non-zeroed features\n",
    "x_devel_svc= x_devel[selected_cols_svc]\n",
    "\n",
    "#see which features were retained\n",
    "print('Features retained: ', selected_cols_svc)"
   ]
  },
  {
   "cell_type": "markdown",
   "id": "8440dc78",
   "metadata": {},
   "source": [
    "Feature Selection - SelectKBest"
   ]
  },
  {
   "cell_type": "code",
   "execution_count": 11,
   "id": "621e6fcd",
   "metadata": {},
   "outputs": [
    {
     "name": "stdout",
     "output_type": "stream",
     "text": [
      "Features retained:  Index(['sex', 'cho', 'restecg', 'thalach', 'oldpeak'], dtype='object')\n"
     ]
    }
   ],
   "source": [
    "from sklearn.feature_selection import SelectKBest, f_classif\n",
    "kbest_feats= SelectKBest(f_classif, k=5)\n",
    "\n",
    "#get top 5 best features\n",
    "x_train_kbest= kbest_feats.fit_transform(x_train, y_train)\n",
    "selected_feats_kbest= pd.DataFrame(kbest_feats.inverse_transform(x_train_kbest), index= x_train.index, columns= x_train.columns)\n",
    "selected_cols_kbest= selected_feats_kbest.columns[selected_feats_kbest.var() != 0]\n",
    "\n",
    "#get development set that has the top 5 features\n",
    "x_devel_kbest= x_devel[selected_cols_kbest]\n",
    "\n",
    "#see which features were retained\n",
    "print('Features retained: ', selected_cols_kbest)"
   ]
  },
  {
   "cell_type": "markdown",
   "id": "19544cdf",
   "metadata": {},
   "source": [
    "Feature Selection - Random Forest"
   ]
  },
  {
   "cell_type": "code",
   "execution_count": 12,
   "id": "be556bdd",
   "metadata": {},
   "outputs": [
    {
     "name": "stdout",
     "output_type": "stream",
     "text": [
      "age\n",
      "cp\n",
      "trestbps\n",
      "cho\n",
      "thalach\n",
      "oldpeak\n",
      "ca\n"
     ]
    }
   ],
   "source": [
    "from sklearn.ensemble import RandomForestClassifier\n",
    "\n",
    "#create and train a random forest\n",
    "forest= RandomForestClassifier(n_estimators= 1000, random_state= 20)\n",
    "forest.fit(x_train, y_train)\n",
    "\n",
    "#get the most important features\n",
    "forest_feats= SelectFromModel(forest, threshold= 'median')\n",
    "forest_feats.fit(x_train, y_train)\n",
    "\n",
    "#get training and development sets that have only the most important features\n",
    "x_train_forest= forest_feats.transform(x_train)\n",
    "x_devel_forest= forest_feats.transform(x_devel)\n",
    "\n",
    "#see which features were retained\n",
    "for i in forest_feats.get_support(indices= True):\n",
    "    print(x_train.columns[i])"
   ]
  },
  {
   "cell_type": "markdown",
   "id": "7e39ecc0",
   "metadata": {},
   "source": [
    "SVM to Decide Feature Set"
   ]
  },
  {
   "cell_type": "code",
   "execution_count": 13,
   "id": "2ad5745f",
   "metadata": {},
   "outputs": [
    {
     "name": "stdout",
     "output_type": "stream",
     "text": [
      "SVM precision and recall, all features:  [0.5        0.66666667] [0.41666667 0.73684211] \n",
      "SVM precision and recall, L1 regularization features:  [0.5        0.66666667] [0.41666667 0.73684211]\n",
      "SVM precision and recall, top 5 features:  [0.44444444 0.63636364] [0.33333333 0.73684211] \n",
      "SVM precision and recall, random forest features:  [0.71428571 0.70833333] [0.41666667 0.89473684] \n",
      "\n",
      "Average recalls:  0.5767543859649122 0.5767543859649122 0.5350877192982456 0.6557017543859649\n"
     ]
    }
   ],
   "source": [
    "from sklearn.preprocessing import StandardScaler\n",
    "from sklearn.svm import SVC\n",
    "from sklearn.metrics import recall_score, precision_score\n",
    "\n",
    "def eval_svm(train_feats, test_feats, train_labs, test_labs):\n",
    "    \"\"\"\n",
    "    INPUT: train_feats and test_feats are either 2D numpy arrays or pd dataframes with the feature values for the train/test sets \n",
    "    train_labs, test_labs are either 1D numpy arrays or pd series with the corresponding labels to the train/test features\n",
    "    \n",
    "    OUTPUT: classification_results is a string of results, incl. precision, recall, and f1-score for each class\n",
    "    \"\"\"\n",
    "    #scale features before using in SVM\n",
    "    scaler= StandardScaler()\n",
    "    train_feats_scale= scaler.fit_transform(train_feats)\n",
    "    test_feats_scale= scaler.transform(test_feats)\n",
    "    \n",
    "    svm= SVC()\n",
    "    svm.fit(train_feats_scale, train_labs)\n",
    "    predicts= svm.predict(test_feats_scale)\n",
    "    \n",
    "    precision= precision_score(test_labs, predicts, average= None, zero_division= 0)\n",
    "    recall= recall_score(test_labs, predicts, average= None, zero_division= 0)\n",
    "    \n",
    "    return precision, recall\n",
    "\n",
    "#get performance of model that uses all features\n",
    "prec_allfeats, rec_allfeats= eval_svm(x_train, x_devel, y_train, y_devel)\n",
    "#get performance of model that uses features from L1 regularization\n",
    "prec_svc, rec_svc= eval_svm(x_train_svc, x_devel_svc, y_train, y_devel)\n",
    "\n",
    "#get performance of model that uses features from SelectKBest\n",
    "prec_kbest, rec_kbest= eval_svm(x_train_kbest, x_devel_kbest, y_train, y_devel)\n",
    "\n",
    "#get performance of model that uses features from random forest\n",
    "prec_forest, rec_forest= eval_svm(x_train_forest, x_devel_forest, y_train, y_devel)\n",
    "\n",
    "print('SVM precision and recall, all features: ', prec_allfeats, rec_allfeats, '\\n'+'SVM precision and recall, L1 regularization features: ', prec_svc, rec_svc)\n",
    "print('SVM precision and recall, top 5 features: ', prec_kbest, rec_kbest, '\\n'+'SVM precision and recall, random forest features: ', prec_forest, rec_forest, '\\n')   \n",
    "print('Average recalls: ', np.mean(rec_allfeats), np.mean(rec_svc), np.mean(rec_kbest), np.mean(rec_forest))"
   ]
  }
 ],
 "metadata": {
  "kernelspec": {
   "display_name": "Python 3",
   "language": "python",
   "name": "python3"
  },
  "language_info": {
   "codemirror_mode": {
    "name": "ipython",
    "version": 3
   },
   "file_extension": ".py",
   "mimetype": "text/x-python",
   "name": "python",
   "nbconvert_exporter": "python",
   "pygments_lexer": "ipython3",
   "version": "3.13.5"
  }
 },
 "nbformat": 4,
 "nbformat_minor": 5
}
